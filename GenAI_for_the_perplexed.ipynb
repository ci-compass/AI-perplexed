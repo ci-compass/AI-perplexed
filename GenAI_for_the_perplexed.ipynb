{
 "cells": [
  {
   "cell_type": "markdown",
   "id": "984505e3",
   "metadata": {},
   "source": [
    "# A guide to Generative AI for the Perplexed\n",
    "\n",
    "> This video is meant to be a rough guide to some of the concepts and to help understand generative AI and preparation for the NSF CyberInfrastructure Center of Excellence [CI-Compass](https://ci-compass.org/) [Virtual Workshop - AI Meets CI: Intelligent Infrastructure for Major & Midscale Facilities](https://ci-compass.org/news-and-events/events/virtual-workshop-ai-meets-ci-intelligent-infrastructure-for-major-and-midscale-facilities/). The purpose is to start from the beginning and try to de-mystify **chatbot** based Generative AI.\n",
    "\n",
    "![](https://ci-compass.org/assets/629872/300x/ai_meets_ci_recreation_1.png)\n",
    "\n",
    "## Chat based generative AI\n",
    "\n",
    "### Chat interface\n",
    "- [OpenAI ChatGPT](https://chatgpt.com/)\n",
    "- [Anthropic Claude](https://claude.ai/new)\n",
    "- [Google Gemini](https://gemini.google.com/)\n",
    "\n",
    "### Terminal Based Coding Agents\n",
    "- [Anthropic Claude Code Cli](https://www.claude.com/product/claude-code)\n",
    "- [OpenAI Codex Cli](https://github.com/openai/codex)\n",
    "- [Google Gemini Cli](https://geminicli.com/)\n",
    "- [Microsoft Visual Studio Code](https://code.visualstudio.com/)\n",
    "\n",
    "### Notebook Based AI\n",
    "- [AnswerAI SolveIT](https://solve.it.com)\n",
    "- [Google Collab](https://developers.googleblog.com/en/data-science-agent-in-colab-with-gemini/)"
   ]
  },
  {
   "cell_type": "markdown",
   "id": "f156753b",
   "metadata": {},
   "source": [
    "## \"The LLM\""
   ]
  }
 ],
 "metadata": {
  "solveit_dialog_mode": "learning",
  "solveit_ver": 2
 },
 "nbformat": 4,
 "nbformat_minor": 5
}
